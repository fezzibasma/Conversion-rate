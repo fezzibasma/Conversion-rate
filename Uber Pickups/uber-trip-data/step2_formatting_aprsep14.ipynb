{
 "cells": [
  {
   "cell_type": "code",
   "execution_count": 1,
   "metadata": {},
   "outputs": [],
   "source": [
    "import pandas as pd\n",
    "apr14=pd.read_csv(\"/Users/fezzibasma/Desktop/Data Full-Stack/Machine Learning Unsupervised/Projet Uber/uber-trip-data/uber-raw-data-apr14.csv\")\n",
    "may14=pd.read_csv(\"/Users/fezzibasma/Desktop/Data Full-Stack/Machine Learning Unsupervised/Projet Uber/uber-trip-data/uber-raw-data-may14.csv\")\n",
    "jun14=pd.read_csv(\"/Users/fezzibasma/Desktop/Data Full-Stack/Machine Learning Unsupervised/Projet Uber/uber-trip-data/uber-raw-data-may14.csv\")\n",
    "jul14=pd.read_csv(\"/Users/fezzibasma/Desktop/Data Full-Stack/Machine Learning Unsupervised/Projet Uber/uber-trip-data/uber-raw-data-may14.csv\")\n",
    "aug14=pd.read_csv(\"/Users/fezzibasma/Desktop/Data Full-Stack/Machine Learning Unsupervised/Projet Uber/uber-trip-data/uber-raw-data-may14.csv\")\n",
    "sep14=pd.read_csv(\"/Users/fezzibasma/Desktop/Data Full-Stack/Machine Learning Unsupervised/Projet Uber/uber-trip-data/uber-raw-data-may14.csv\")"
   ]
  },
  {
   "cell_type": "code",
   "execution_count": 2,
   "metadata": {},
   "outputs": [
    {
     "name": "stderr",
     "output_type": "stream",
     "text": [
      "/var/folders/69/2xnjng8d15j5264htcrb3x640000gn/T/ipykernel_6862/851252268.py:7: FutureWarning: The frame.append method is deprecated and will be removed from pandas in a future version. Use pandas.concat instead.\n",
      "  list.append(list)\n",
      "/var/folders/69/2xnjng8d15j5264htcrb3x640000gn/T/ipykernel_6862/851252268.py:7: FutureWarning: The frame.append method is deprecated and will be removed from pandas in a future version. Use pandas.concat instead.\n",
      "  list.append(list)\n",
      "/var/folders/69/2xnjng8d15j5264htcrb3x640000gn/T/ipykernel_6862/851252268.py:7: FutureWarning: The frame.append method is deprecated and will be removed from pandas in a future version. Use pandas.concat instead.\n",
      "  list.append(list)\n",
      "/var/folders/69/2xnjng8d15j5264htcrb3x640000gn/T/ipykernel_6862/851252268.py:7: FutureWarning: The frame.append method is deprecated and will be removed from pandas in a future version. Use pandas.concat instead.\n",
      "  list.append(list)\n",
      "/var/folders/69/2xnjng8d15j5264htcrb3x640000gn/T/ipykernel_6862/851252268.py:7: FutureWarning: The frame.append method is deprecated and will be removed from pandas in a future version. Use pandas.concat instead.\n",
      "  list.append(list)\n",
      "/var/folders/69/2xnjng8d15j5264htcrb3x640000gn/T/ipykernel_6862/851252268.py:7: FutureWarning: The frame.append method is deprecated and will be removed from pandas in a future version. Use pandas.concat instead.\n",
      "  list.append(list)\n"
     ]
    }
   ],
   "source": [
    "import pandas as pd\n",
    "list=[]\n",
    "month14=['apr14','may14','jun14','jul14','aug14','sep14']\n",
    "for month in range(len(month14)):\n",
    "    link=\"/Users/fezzibasma/Desktop/Data Full-Stack/Machine Learning Unsupervised/Projet Uber/uber-trip-data/uber-raw-data-{}.csv\".format(month14[month])\n",
    "    list=pd.read_csv(link)\n",
    "    list.append(list)\n",
    "    aprsep14=pd.DataFrame(list)"
   ]
  },
  {
   "cell_type": "code",
   "execution_count": 3,
   "metadata": {},
   "outputs": [
    {
     "data": {
      "text/plain": [
       "(1028136, 4)"
      ]
     },
     "execution_count": 3,
     "metadata": {},
     "output_type": "execute_result"
    }
   ],
   "source": [
    "aprsep14.shape"
   ]
  },
  {
   "cell_type": "code",
   "execution_count": 4,
   "metadata": {},
   "outputs": [],
   "source": [
    "split_datetime=pd.DataFrame(aprsep14['Date/Time'].str.split(' ').tolist(),\n",
    "                         columns = ['Date','Time'])"
   ]
  },
  {
   "cell_type": "code",
   "execution_count": 5,
   "metadata": {},
   "outputs": [],
   "source": [
    "data14=pd.concat([aprsep14,split_datetime],axis=1)\n",
    "data14=data14.round(2)"
   ]
  },
  {
   "cell_type": "markdown",
   "metadata": {},
   "source": [
    "## Converger les resultats avec Taxi zones pour obtenir le détail de l'historique data aprsep14"
   ]
  },
  {
   "cell_type": "code",
   "execution_count": 6,
   "metadata": {},
   "outputs": [
    {
     "data": {
      "text/html": [
       "<div>\n",
       "<style scoped>\n",
       "    .dataframe tbody tr th:only-of-type {\n",
       "        vertical-align: middle;\n",
       "    }\n",
       "\n",
       "    .dataframe tbody tr th {\n",
       "        vertical-align: top;\n",
       "    }\n",
       "\n",
       "    .dataframe thead th {\n",
       "        text-align: right;\n",
       "    }\n",
       "</style>\n",
       "<table border=\"1\" class=\"dataframe\">\n",
       "  <thead>\n",
       "    <tr style=\"text-align: right;\">\n",
       "      <th></th>\n",
       "      <th>zone</th>\n",
       "      <th>LocationID</th>\n",
       "      <th>borough</th>\n",
       "      <th>Lon</th>\n",
       "      <th>Lat</th>\n",
       "    </tr>\n",
       "  </thead>\n",
       "  <tbody>\n",
       "    <tr>\n",
       "      <th>0</th>\n",
       "      <td>Newark Airport</td>\n",
       "      <td>1</td>\n",
       "      <td>EWR</td>\n",
       "      <td>-74.18</td>\n",
       "      <td>40.69</td>\n",
       "    </tr>\n",
       "    <tr>\n",
       "      <th>1</th>\n",
       "      <td>Jamaica Bay</td>\n",
       "      <td>2</td>\n",
       "      <td>Queens</td>\n",
       "      <td>-73.82</td>\n",
       "      <td>40.64</td>\n",
       "    </tr>\n",
       "    <tr>\n",
       "      <th>2</th>\n",
       "      <td>Allerton/Pelham Gardens</td>\n",
       "      <td>3</td>\n",
       "      <td>Bronx</td>\n",
       "      <td>-73.85</td>\n",
       "      <td>40.87</td>\n",
       "    </tr>\n",
       "    <tr>\n",
       "      <th>3</th>\n",
       "      <td>Alphabet City</td>\n",
       "      <td>4</td>\n",
       "      <td>Manhattan</td>\n",
       "      <td>-73.97</td>\n",
       "      <td>40.73</td>\n",
       "    </tr>\n",
       "    <tr>\n",
       "      <th>4</th>\n",
       "      <td>Arden Heights</td>\n",
       "      <td>5</td>\n",
       "      <td>Staten Island</td>\n",
       "      <td>-74.17</td>\n",
       "      <td>40.56</td>\n",
       "    </tr>\n",
       "  </tbody>\n",
       "</table>\n",
       "</div>"
      ],
      "text/plain": [
       "                      zone  LocationID        borough    Lon    Lat\n",
       "0           Newark Airport           1            EWR -74.18  40.69\n",
       "1              Jamaica Bay           2         Queens -73.82  40.64\n",
       "2  Allerton/Pelham Gardens           3          Bronx -73.85  40.87\n",
       "3            Alphabet City           4      Manhattan -73.97  40.73\n",
       "4            Arden Heights           5  Staten Island -74.17  40.56"
      ]
     },
     "execution_count": 6,
     "metadata": {},
     "output_type": "execute_result"
    }
   ],
   "source": [
    "taxi_zone_coordinates=pd.read_csv(\"/Users/fezzibasma/Desktop/Data Full-Stack/Machine Learning Unsupervised/Projet Uber/export_step/formatting_taxizones.csv\",index_col=[0])\n",
    "taxi_zone_coordinates.head()"
   ]
  },
  {
   "cell_type": "code",
   "execution_count": 7,
   "metadata": {},
   "outputs": [],
   "source": [
    "result14=data14.merge(taxi_zone_coordinates, on=['Lat','Lon'], how='left').dropna()"
   ]
  },
  {
   "cell_type": "code",
   "execution_count": 8,
   "metadata": {},
   "outputs": [],
   "source": [
    "result14=result14.reset_index().drop(['index'],axis=1)"
   ]
  },
  {
   "cell_type": "code",
   "execution_count": 9,
   "metadata": {},
   "outputs": [
    {
     "data": {
      "text/html": [
       "<div>\n",
       "<style scoped>\n",
       "    .dataframe tbody tr th:only-of-type {\n",
       "        vertical-align: middle;\n",
       "    }\n",
       "\n",
       "    .dataframe tbody tr th {\n",
       "        vertical-align: top;\n",
       "    }\n",
       "\n",
       "    .dataframe thead th {\n",
       "        text-align: right;\n",
       "    }\n",
       "</style>\n",
       "<table border=\"1\" class=\"dataframe\">\n",
       "  <thead>\n",
       "    <tr style=\"text-align: right;\">\n",
       "      <th></th>\n",
       "      <th>Date/Time</th>\n",
       "      <th>Lat</th>\n",
       "      <th>Lon</th>\n",
       "      <th>Base</th>\n",
       "      <th>Date</th>\n",
       "      <th>Time</th>\n",
       "      <th>Zone</th>\n",
       "      <th>locationID</th>\n",
       "      <th>Borough</th>\n",
       "    </tr>\n",
       "  </thead>\n",
       "  <tbody>\n",
       "    <tr>\n",
       "      <th>0</th>\n",
       "      <td>9/1/2014 0:03:00</td>\n",
       "      <td>40.76</td>\n",
       "      <td>-73.99</td>\n",
       "      <td>B02512</td>\n",
       "      <td>9/1/2014</td>\n",
       "      <td>0:03:00</td>\n",
       "      <td>Clinton East</td>\n",
       "      <td>48.0</td>\n",
       "      <td>Manhattan</td>\n",
       "    </tr>\n",
       "    <tr>\n",
       "      <th>1</th>\n",
       "      <td>9/1/2014 0:33:00</td>\n",
       "      <td>40.76</td>\n",
       "      <td>-73.98</td>\n",
       "      <td>B02512</td>\n",
       "      <td>9/1/2014</td>\n",
       "      <td>0:33:00</td>\n",
       "      <td>Midtown Center</td>\n",
       "      <td>161.0</td>\n",
       "      <td>Manhattan</td>\n",
       "    </tr>\n",
       "    <tr>\n",
       "      <th>2</th>\n",
       "      <td>9/1/2014 0:33:00</td>\n",
       "      <td>40.76</td>\n",
       "      <td>-73.98</td>\n",
       "      <td>B02512</td>\n",
       "      <td>9/1/2014</td>\n",
       "      <td>0:33:00</td>\n",
       "      <td>Times Sq/Theatre District</td>\n",
       "      <td>230.0</td>\n",
       "      <td>Manhattan</td>\n",
       "    </tr>\n",
       "    <tr>\n",
       "      <th>3</th>\n",
       "      <td>9/1/2014 0:37:00</td>\n",
       "      <td>40.81</td>\n",
       "      <td>-73.96</td>\n",
       "      <td>B02512</td>\n",
       "      <td>9/1/2014</td>\n",
       "      <td>0:37:00</td>\n",
       "      <td>Morningside Heights</td>\n",
       "      <td>166.0</td>\n",
       "      <td>Manhattan</td>\n",
       "    </tr>\n",
       "    <tr>\n",
       "      <th>4</th>\n",
       "      <td>9/1/2014 0:48:00</td>\n",
       "      <td>40.72</td>\n",
       "      <td>-73.99</td>\n",
       "      <td>B02512</td>\n",
       "      <td>9/1/2014</td>\n",
       "      <td>0:48:00</td>\n",
       "      <td>Greenwich Village South</td>\n",
       "      <td>114.0</td>\n",
       "      <td>Manhattan</td>\n",
       "    </tr>\n",
       "  </tbody>\n",
       "</table>\n",
       "</div>"
      ],
      "text/plain": [
       "          Date/Time    Lat    Lon    Base      Date     Time  \\\n",
       "0  9/1/2014 0:03:00  40.76 -73.99  B02512  9/1/2014  0:03:00   \n",
       "1  9/1/2014 0:33:00  40.76 -73.98  B02512  9/1/2014  0:33:00   \n",
       "2  9/1/2014 0:33:00  40.76 -73.98  B02512  9/1/2014  0:33:00   \n",
       "3  9/1/2014 0:37:00  40.81 -73.96  B02512  9/1/2014  0:37:00   \n",
       "4  9/1/2014 0:48:00  40.72 -73.99  B02512  9/1/2014  0:48:00   \n",
       "\n",
       "                        Zone  locationID    Borough  \n",
       "0               Clinton East        48.0  Manhattan  \n",
       "1             Midtown Center       161.0  Manhattan  \n",
       "2  Times Sq/Theatre District       230.0  Manhattan  \n",
       "3        Morningside Heights       166.0  Manhattan  \n",
       "4    Greenwich Village South       114.0  Manhattan  "
      ]
     },
     "execution_count": 9,
     "metadata": {},
     "output_type": "execute_result"
    }
   ],
   "source": [
    "result14=result14.rename(columns={\"LocationID\": \"locationID\",\"zone\":\"Zone\",\"borough\":\"Borough\"})\n",
    "result14.head()"
   ]
  },
  {
   "cell_type": "code",
   "execution_count": 10,
   "metadata": {},
   "outputs": [
    {
     "data": {
      "text/html": [
       "<div>\n",
       "<style scoped>\n",
       "    .dataframe tbody tr th:only-of-type {\n",
       "        vertical-align: middle;\n",
       "    }\n",
       "\n",
       "    .dataframe tbody tr th {\n",
       "        vertical-align: top;\n",
       "    }\n",
       "\n",
       "    .dataframe thead th {\n",
       "        text-align: right;\n",
       "    }\n",
       "</style>\n",
       "<table border=\"1\" class=\"dataframe\">\n",
       "  <thead>\n",
       "    <tr style=\"text-align: right;\">\n",
       "      <th></th>\n",
       "      <th>Date</th>\n",
       "      <th>Time</th>\n",
       "      <th>locationID</th>\n",
       "      <th>Base</th>\n",
       "      <th>Lon</th>\n",
       "      <th>Lat</th>\n",
       "      <th>Borough</th>\n",
       "      <th>Zone</th>\n",
       "    </tr>\n",
       "  </thead>\n",
       "  <tbody>\n",
       "    <tr>\n",
       "      <th>0</th>\n",
       "      <td>9/1/2014</td>\n",
       "      <td>0:03:00</td>\n",
       "      <td>48.0</td>\n",
       "      <td>B02512</td>\n",
       "      <td>-73.99</td>\n",
       "      <td>40.76</td>\n",
       "      <td>Manhattan</td>\n",
       "      <td>Clinton East</td>\n",
       "    </tr>\n",
       "    <tr>\n",
       "      <th>1</th>\n",
       "      <td>9/1/2014</td>\n",
       "      <td>0:33:00</td>\n",
       "      <td>161.0</td>\n",
       "      <td>B02512</td>\n",
       "      <td>-73.98</td>\n",
       "      <td>40.76</td>\n",
       "      <td>Manhattan</td>\n",
       "      <td>Midtown Center</td>\n",
       "    </tr>\n",
       "    <tr>\n",
       "      <th>2</th>\n",
       "      <td>9/1/2014</td>\n",
       "      <td>0:33:00</td>\n",
       "      <td>230.0</td>\n",
       "      <td>B02512</td>\n",
       "      <td>-73.98</td>\n",
       "      <td>40.76</td>\n",
       "      <td>Manhattan</td>\n",
       "      <td>Times Sq/Theatre District</td>\n",
       "    </tr>\n",
       "    <tr>\n",
       "      <th>3</th>\n",
       "      <td>9/1/2014</td>\n",
       "      <td>0:37:00</td>\n",
       "      <td>166.0</td>\n",
       "      <td>B02512</td>\n",
       "      <td>-73.96</td>\n",
       "      <td>40.81</td>\n",
       "      <td>Manhattan</td>\n",
       "      <td>Morningside Heights</td>\n",
       "    </tr>\n",
       "    <tr>\n",
       "      <th>4</th>\n",
       "      <td>9/1/2014</td>\n",
       "      <td>0:48:00</td>\n",
       "      <td>114.0</td>\n",
       "      <td>B02512</td>\n",
       "      <td>-73.99</td>\n",
       "      <td>40.72</td>\n",
       "      <td>Manhattan</td>\n",
       "      <td>Greenwich Village South</td>\n",
       "    </tr>\n",
       "  </tbody>\n",
       "</table>\n",
       "</div>"
      ],
      "text/plain": [
       "       Date     Time  locationID    Base    Lon    Lat    Borough  \\\n",
       "0  9/1/2014  0:03:00        48.0  B02512 -73.99  40.76  Manhattan   \n",
       "1  9/1/2014  0:33:00       161.0  B02512 -73.98  40.76  Manhattan   \n",
       "2  9/1/2014  0:33:00       230.0  B02512 -73.98  40.76  Manhattan   \n",
       "3  9/1/2014  0:37:00       166.0  B02512 -73.96  40.81  Manhattan   \n",
       "4  9/1/2014  0:48:00       114.0  B02512 -73.99  40.72  Manhattan   \n",
       "\n",
       "                        Zone  \n",
       "0               Clinton East  \n",
       "1             Midtown Center  \n",
       "2  Times Sq/Theatre District  \n",
       "3        Morningside Heights  \n",
       "4    Greenwich Village South  "
      ]
     },
     "execution_count": 10,
     "metadata": {},
     "output_type": "execute_result"
    }
   ],
   "source": [
    "mycolumns=['Date','Time','locationID','Base','Lon','Lat','Borough','Zone']\n",
    "result14=result14[mycolumns]\n",
    "result14.head()"
   ]
  },
  {
   "cell_type": "code",
   "execution_count": 11,
   "metadata": {},
   "outputs": [
    {
     "name": "stdout",
     "output_type": "stream",
     "text": [
      "File is written to CSV File successfully.\n"
     ]
    }
   ],
   "source": [
    "file_name = '/Users/fezzibasma/Desktop/Data Full-Stack/Machine Learning Unsupervised/Projet Uber/export_step/formatting_aprsep14.csv'\n",
    "result14.to_csv(file_name)\n",
    "print('File is written to CSV File successfully.')"
   ]
  },
  {
   "cell_type": "code",
   "execution_count": null,
   "metadata": {},
   "outputs": [],
   "source": []
  }
 ],
 "metadata": {
  "kernelspec": {
   "display_name": "Python 3.9.12",
   "language": "python",
   "name": "python3"
  },
  "language_info": {
   "codemirror_mode": {
    "name": "ipython",
    "version": 3
   },
   "file_extension": ".py",
   "mimetype": "text/x-python",
   "name": "python",
   "nbconvert_exporter": "python",
   "pygments_lexer": "ipython3",
   "version": "3.9.12"
  },
  "orig_nbformat": 4,
  "vscode": {
   "interpreter": {
    "hash": "40d3a090f54c6569ab1632332b64b2c03c39dcf918b08424e98f38b5ae0af88f"
   }
  }
 },
 "nbformat": 4,
 "nbformat_minor": 2
}
